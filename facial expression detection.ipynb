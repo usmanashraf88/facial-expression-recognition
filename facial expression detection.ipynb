{
 "cells": [
  {
   "cell_type": "markdown",
   "metadata": {},
   "source": [
    "# facial expression detection"
   ]
  },
  {
   "cell_type": "code",
   "execution_count": 1,
   "metadata": {
    "_cell_guid": "b1076dfc-b9ad-4769-8c92-a6c4dae69d19",
    "_uuid": "8f2839f25d086af736a60e9eeb907d3b93b6e0e5"
   },
   "outputs": [],
   "source": [
    "# This Python 3 environment comes with many helpful analytics libraries installed\n",
    " \n",
    "import numpy as np # linear algebra\n",
    "import pandas as pd # data processing, CSV file I/O (e.g. pd.read_csv)"
   ]
  },
  {
   "cell_type": "markdown",
   "metadata": {},
   "source": [
    "# A classification label, with possible values...."
   ]
  },
  {
   "cell_type": "code",
   "execution_count": 2,
   "metadata": {},
   "outputs": [],
   "source": [
    "# in IEMOCAP there are six classes but in MELD,EmoryNLP and DailyDialog there are 7 classes\n",
    "emo_la={0:'frustration',1:'neutral',2:'anger',3:'sadness',4:'excitement',5:'happiness'}"
   ]
  },
  {
   "cell_type": "code",
   "execution_count": 3,
   "metadata": {},
   "outputs": [
    {
     "data": {
      "text/plain": [
       "'frustration'"
      ]
     },
     "execution_count": 3,
     "metadata": {},
     "output_type": "execute_result"
    }
   ],
   "source": [
    "emo_la[0]"
   ]
  },
  {
   "cell_type": "markdown",
   "metadata": {},
   "source": [
    "# Splitting Dataset into Training, Validation, and Test Sets "
   ]
  },
  {
   "cell_type": "code",
   "execution_count": 4,
   "metadata": {},
   "outputs": [
    {
     "name": "stdout",
     "output_type": "stream",
     "text": [
      "Training Data:\n",
      "                 start_stop                 vid_cid label  \\\n",
      "4039  [190.9697 - 197.0104]  Ses03M_script01_3_M021   hap   \n",
      "2697  [140.1110 - 143.1502]  Ses02M_script03_2_M026   ang   \n",
      "2185    [56.6475 - 69.8700]     Ses02M_impro05_F007   neu   \n",
      "3298    [56.7750 - 59.7491]  Ses03F_script02_2_M006   fru   \n",
      "1231    [48.9610 - 52.0600]  Ses01M_script02_2_M006   fru   \n",
      "\n",
      "                           VAD  \\\n",
      "4039  [4.0000, 2.5000, 3.5000]   \n",
      "2697  [2.5000, 3.5000, 4.0000]   \n",
      "2185  [2.5000, 3.0000, 3.5000]   \n",
      "3298  [2.0000, 3.3333, 3.0000]   \n",
      "1231  [2.5000, 3.0000, 2.5000]   \n",
      "\n",
      "                                                   text                vid  i  \\\n",
      "4039  We're going to live now.  I'm going to make yo...  Ses03M_script01_3  3   \n",
      "2697               What riotous time you must have had.  Ses02M_script03_2  2   \n",
      "2185  Um, well, sometimes there is just difficulties...     Ses02M_impro05  2   \n",
      "3298                     Okay, then what's bugging you?  Ses03F_script02_2  3   \n",
      "1231  It's not just me, okay?  Look at like all the ...  Ses01M_script02_2  1   \n",
      "\n",
      "                                                   path  \n",
      "4039  /home/admin/workspace/data/multimodal-sentimen...  \n",
      "2697  /home/admin/workspace/data/multimodal-sentimen...  \n",
      "2185  /home/admin/workspace/data/multimodal-sentimen...  \n",
      "3298  /home/admin/workspace/data/multimodal-sentimen...  \n",
      "1231  /home/admin/workspace/data/multimodal-sentimen...  \n",
      "\n",
      "Validation Data:\n",
      "                 start_stop                 vid_cid label  \\\n",
      "1844    [53.2000 - 57.7000]  Ses02F_script02_2_F006   ang   \n",
      "1483  [132.9672 - 135.2700]     Ses02F_impro04_F009   sad   \n",
      "3164  [155.3925 - 157.4675]  Ses03F_script01_3_F018   hap   \n",
      "7011  [187.7200 - 189.5700]     Ses05M_impro08_M022   neu   \n",
      "7372  [218.8300 - 221.3700]  Ses05M_script03_2_M039   ang   \n",
      "\n",
      "                           VAD  \\\n",
      "1844  [2.0000, 4.0000, 4.0000]   \n",
      "1483  [2.0000, 2.0000, 3.5000]   \n",
      "3164  [4.0000, 3.5000, 3.5000]   \n",
      "7011  [3.5000, 3.0000, 3.0000]   \n",
      "7372  [2.0000, 3.0000, 4.0000]   \n",
      "\n",
      "                                                   text                vid  i  \\\n",
      "1844  We just have different ideas of what this even...  Ses02F_script02_2  2   \n",
      "1483                               I feel so worthless.     Ses02F_impro04  2   \n",
      "3164                                   Every day since.  Ses03F_script01_3  3   \n",
      "7011                           I completely understand.     Ses05M_impro08  5   \n",
      "7372                               Very amusing indeed.  Ses05M_script03_2  5   \n",
      "\n",
      "                                                   path  \n",
      "1844  /home/admin/workspace/data/multimodal-sentimen...  \n",
      "1483  /home/admin/workspace/data/multimodal-sentimen...  \n",
      "3164  /home/admin/workspace/data/multimodal-sentimen...  \n",
      "7011  /home/admin/workspace/data/multimodal-sentimen...  \n",
      "7372  /home/admin/workspace/data/multimodal-sentimen...  \n",
      "\n",
      "Test Data:\n",
      "                 start_stop                 vid_cid label  \\\n",
      "2903  [103.8880 - 108.8276]     Ses03F_impro06_F015   sad   \n",
      "6587    [47.0600 - 49.8000]  Ses05F_script03_2_M008   ang   \n",
      "1452  [240.4223 - 244.0151]     Ses02F_impro03_F029   hap   \n",
      "1921    [70.5100 - 71.7600]  Ses02F_script03_1_F012   neu   \n",
      "2722    [20.2800 - 27.9575]     Ses03F_impro01_M002   neu   \n",
      "\n",
      "                           VAD  \\\n",
      "2903  [2.5000, 2.5000, 3.5000]   \n",
      "6587  [1.5000, 3.0000, 4.5000]   \n",
      "1452  [4.5000, 3.7500, 3.0000]   \n",
      "1921  [3.6667, 2.3333, 2.6667]   \n",
      "2722  [3.0000, 2.6667, 3.3333]   \n",
      "\n",
      "                                                   text                vid  i  \\\n",
      "2903      I know. He was, he had so much going for him.     Ses03F_impro06  3   \n",
      "6587      Well, that's a nice point of view I must say.  Ses05F_script03_2  5   \n",
      "1452                  She'll be like--flowers and the--     Ses02F_impro03  2   \n",
      "1921                                        Who's they?  Ses02F_script03_1  2   \n",
      "2722  You didn't fill this out right. All right. It ...     Ses03F_impro01  3   \n",
      "\n",
      "                                                   path  \n",
      "2903  /home/admin/workspace/data/multimodal-sentimen...  \n",
      "6587  /home/admin/workspace/data/multimodal-sentimen...  \n",
      "1452  /home/admin/workspace/data/multimodal-sentimen...  \n",
      "1921  /home/admin/workspace/data/multimodal-sentimen...  \n",
      "2722  /home/admin/workspace/data/multimodal-sentimen...  \n"
     ]
    }
   ],
   "source": [
    "import pandas as pd\n",
    "from sklearn.model_selection import train_test_split\n",
    "\n",
    "# Load the dataset\n",
    "data = pd.read_csv('Dataset.csv')\n",
    "\n",
    "# First, split the dataset into training and remaining sets\n",
    "# Calculate the number of samples for the remaining set (validation + testing)\n",
    "remaining_size = 1000 + 1523\n",
    "\n",
    "# Split off the remaining set from the original dataset\n",
    "train_data, remaining_data = train_test_split(data, test_size=remaining_size, random_state=42)\n",
    "\n",
    "# Now split the remaining data into validation and testing sets\n",
    "val_data, test_data = train_test_split(remaining_data, test_size=1523, random_state=42)\n",
    "\n",
    "# The size of val_data will be 1000\n",
    "# The size of test_data will be 1523\n",
    "\n",
    "# Save the splits to CSV files if needed\n",
    "train_data.to_csv('train_data.csv', index=False)\n",
    "val_data.to_csv('val_data.csv', index=False)\n",
    "test_data.to_csv('test_data.csv', index=False)\n",
    "\n",
    "# Display the first few rows of the splits\n",
    "print(\"Training Data:\")\n",
    "print(train_data.head())\n",
    "\n",
    "print(\"\\nValidation Data:\")\n",
    "print(val_data.head())\n",
    "\n",
    "print(\"\\nTest Data:\")\n",
    "print(test_data.head())"
   ]
  },
  {
   "cell_type": "code",
   "execution_count": null,
   "metadata": {},
   "outputs": [],
   "source": [
    "# For EmoryNLP,MELD,DailyDialog Dataset\n",
    "#data=pd.read_csv('./Dataset.csv')\n",
    "#data\n",
    "#val_data=pd.read_csv('./Dataset.csv')\n",
    "#test_data=pd.read_csv('./Dataset.csv')"
   ]
  },
  {
   "cell_type": "code",
   "execution_count": 5,
   "metadata": {},
   "outputs": [
    {
     "data": {
      "text/plain": [
       "label\n",
       "fru    1849\n",
       "neu    1708\n",
       "ang    1103\n",
       "sad    1084\n",
       "exc    1040\n",
       "hap     595\n",
       "Name: count, dtype: int64"
      ]
     },
     "execution_count": 5,
     "metadata": {},
     "output_type": "execute_result"
    }
   ],
   "source": [
    "data['label'].value_counts() "
   ]
  },
  {
   "cell_type": "markdown",
   "metadata": {},
   "source": [
    "For EmoryNLP Dataset"
   ]
  },
  {
   "cell_type": "code",
   "execution_count": 6,
   "metadata": {},
   "outputs": [],
   "source": [
    "#import numpy as np\n",
    "#data=data[~(data['label'] == \"\")]\n",
    "#val_data=val_data[~(val_data['label'] == \"\")]\n",
    "#test_data=test_data[~(test_data['label'] == \"\")]\n",
    "\n",
    "#data.loc[data['label'] == 5.0, 'label'] = 5\n",
    "#data.loc[data['label'] == 3.0, 'label'] = 3\n",
    "#data.loc[data['label'] == 0.0, 'label'] = 0\n",
    "#data.loc[data['label'] == 2.0, 'label'] = 2\n",
    "#data.loc[data['label'] == 4.0, 'label'] = 4\n",
    "#data.loc[data['label'] == 1.0, 'label'] = 1\n",
    "\n",
    "#val_data.loc[val_data['label'] == 5.0, 'label'] = 5\n",
    "#val_data.loc[val_data['label'] == 3.0, 'label'] = 3\n",
    "#val_data.loc[val_data['label'] == 0.0, 'label'] = 0\n",
    "#val_data.loc[val_data['label'] == 2.0, 'label'] = 2\n",
    "#val_data.loc[val_data['label'] == 4.0, 'label'] = 4\n",
    "#val_data.loc[val_data['label'] == 1.0, 'label'] = 1\n",
    "\n",
    "#test_data.loc[test_data['label'] == 5.0, 'label'] = 5\n",
    "#test_data.loc[test_data['label'] == 3.0, 'label'] = 3\n",
    "#test_data.loc[test_data['label'] == 0.0, 'label'] = 0\n",
    "#test_data.loc[test_data['label'] == 2.0, 'label'] = 2\n",
    "#test_data.loc[test_data['label'] == 4.0, 'label'] = 4\n",
    "#test_data.loc[test_data['label'] == 1.0, 'label'] = 1\n",
    "\n",
    "#columns_to_remove = ['speaker']\n",
    "\n",
    "# Remove columns from the DataFrame\n",
    "#data.drop(columns=columns_to_remove, inplace=True)\n",
    "#val_data.drop(columns=columns_to_remove, inplace=True)\n",
    "#test_data.drop(columns=columns_to_remove, inplace=True)\n",
    "#data['label'].fillna('unknown', inplace=True)\n",
    "#val_data['label'].fillna('unknown', inplace=True)\n",
    "#test_data['label'].fillna('unknown', inplace=True)\n",
    "\n",
    "#data=data[~(data['label'] == 'unknown')]\n",
    "#val_data=val_data[~(val_data['label'] == 'unknown')]\n",
    "#test_data=test_data[~(test_data['label'] == 'unknown')]"
   ]
  },
  {
   "cell_type": "code",
   "execution_count": 7,
   "metadata": {},
   "outputs": [
    {
     "data": {
      "text/html": [
       "<div>\n",
       "<style scoped>\n",
       "    .dataframe tbody tr th:only-of-type {\n",
       "        vertical-align: middle;\n",
       "    }\n",
       "\n",
       "    .dataframe tbody tr th {\n",
       "        vertical-align: top;\n",
       "    }\n",
       "\n",
       "    .dataframe thead th {\n",
       "        text-align: right;\n",
       "    }\n",
       "</style>\n",
       "<table border=\"1\" class=\"dataframe\">\n",
       "  <thead>\n",
       "    <tr style=\"text-align: right;\">\n",
       "      <th></th>\n",
       "      <th>start_stop</th>\n",
       "      <th>vid_cid</th>\n",
       "      <th>label</th>\n",
       "      <th>VAD</th>\n",
       "      <th>text</th>\n",
       "      <th>vid</th>\n",
       "      <th>i</th>\n",
       "      <th>path</th>\n",
       "    </tr>\n",
       "  </thead>\n",
       "  <tbody>\n",
       "    <tr>\n",
       "      <th>0</th>\n",
       "      <td>[6.2901 - 8.2357]</td>\n",
       "      <td>Ses01F_impro01_F000</td>\n",
       "      <td>neu</td>\n",
       "      <td>[2.5000, 2.5000, 2.5000]</td>\n",
       "      <td>Excuse me.</td>\n",
       "      <td>Ses01F_impro01</td>\n",
       "      <td>1</td>\n",
       "      <td>/home/admin/workspace/data/multimodal-sentimen...</td>\n",
       "    </tr>\n",
       "    <tr>\n",
       "      <th>1</th>\n",
       "      <td>[10.0100 - 11.3925]</td>\n",
       "      <td>Ses01F_impro01_F001</td>\n",
       "      <td>neu</td>\n",
       "      <td>[2.5000, 2.5000, 2.5000]</td>\n",
       "      <td>Yeah.</td>\n",
       "      <td>Ses01F_impro01</td>\n",
       "      <td>1</td>\n",
       "      <td>/home/admin/workspace/data/multimodal-sentimen...</td>\n",
       "    </tr>\n",
       "    <tr>\n",
       "      <th>2</th>\n",
       "      <td>[14.8872 - 18.0175]</td>\n",
       "      <td>Ses01F_impro01_F002</td>\n",
       "      <td>neu</td>\n",
       "      <td>[2.5000, 2.5000, 2.5000]</td>\n",
       "      <td>Is there a problem?</td>\n",
       "      <td>Ses01F_impro01</td>\n",
       "      <td>1</td>\n",
       "      <td>/home/admin/workspace/data/multimodal-sentimen...</td>\n",
       "    </tr>\n",
       "    <tr>\n",
       "      <th>3</th>\n",
       "      <td>[27.4600 - 31.4900]</td>\n",
       "      <td>Ses01F_impro01_F005</td>\n",
       "      <td>neu</td>\n",
       "      <td>[2.5000, 3.5000, 2.0000]</td>\n",
       "      <td>Well what's the problem?  Let me change it.</td>\n",
       "      <td>Ses01F_impro01</td>\n",
       "      <td>1</td>\n",
       "      <td>/home/admin/workspace/data/multimodal-sentimen...</td>\n",
       "    </tr>\n",
       "    <tr>\n",
       "      <th>4</th>\n",
       "      <td>[38.9650 - 43.5900]</td>\n",
       "      <td>Ses01F_impro01_F006</td>\n",
       "      <td>fru</td>\n",
       "      <td>[2.0000, 3.5000, 3.5000]</td>\n",
       "      <td>What?  I'm getting an ID.  This is why I'm her...</td>\n",
       "      <td>Ses01F_impro01</td>\n",
       "      <td>1</td>\n",
       "      <td>/home/admin/workspace/data/multimodal-sentimen...</td>\n",
       "    </tr>\n",
       "    <tr>\n",
       "      <th>...</th>\n",
       "      <td>...</td>\n",
       "      <td>...</td>\n",
       "      <td>...</td>\n",
       "      <td>...</td>\n",
       "      <td>...</td>\n",
       "      <td>...</td>\n",
       "      <td>...</td>\n",
       "      <td>...</td>\n",
       "    </tr>\n",
       "    <tr>\n",
       "      <th>7374</th>\n",
       "      <td>[236.5700 - 244.8300]</td>\n",
       "      <td>Ses05M_script03_2_M041</td>\n",
       "      <td>ang</td>\n",
       "      <td>[1.0000, 4.5000, 5.0000]</td>\n",
       "      <td>You are a vile tempered, wicked living, evil l...</td>\n",
       "      <td>Ses05M_script03_2</td>\n",
       "      <td>5</td>\n",
       "      <td>/home/admin/workspace/data/multimodal-sentimen...</td>\n",
       "    </tr>\n",
       "    <tr>\n",
       "      <th>7375</th>\n",
       "      <td>[244.8400 - 246.5800]</td>\n",
       "      <td>Ses05M_script03_2_M042</td>\n",
       "      <td>ang</td>\n",
       "      <td>[1.0000, 4.5000, 4.5000]</td>\n",
       "      <td>Oh, you're not going like this.</td>\n",
       "      <td>Ses05M_script03_2</td>\n",
       "      <td>5</td>\n",
       "      <td>/home/admin/workspace/data/multimodal-sentimen...</td>\n",
       "    </tr>\n",
       "    <tr>\n",
       "      <th>7376</th>\n",
       "      <td>[246.5900 - 248.8300]</td>\n",
       "      <td>Ses05M_script03_2_M043</td>\n",
       "      <td>ang</td>\n",
       "      <td>[1.5000, 4.0000, 4.5000]</td>\n",
       "      <td>[GARBAGE] No, you're not.</td>\n",
       "      <td>Ses05M_script03_2</td>\n",
       "      <td>5</td>\n",
       "      <td>/home/admin/workspace/data/multimodal-sentimen...</td>\n",
       "    </tr>\n",
       "    <tr>\n",
       "      <th>7377</th>\n",
       "      <td>[255.8600 - 260.3300]</td>\n",
       "      <td>Ses05M_script03_2_M044</td>\n",
       "      <td>ang</td>\n",
       "      <td>[1.0000, 5.0000, 5.0000]</td>\n",
       "      <td>oh! Marry you again? I wouldn't marry you agai...</td>\n",
       "      <td>Ses05M_script03_2</td>\n",
       "      <td>5</td>\n",
       "      <td>/home/admin/workspace/data/multimodal-sentimen...</td>\n",
       "    </tr>\n",
       "    <tr>\n",
       "      <th>7378</th>\n",
       "      <td>[260.3400 - 266.3500]</td>\n",
       "      <td>Ses05M_script03_2_M045</td>\n",
       "      <td>ang</td>\n",
       "      <td>[1.0000, 5.0000, 5.0000]</td>\n",
       "      <td>You're a wicked little vampire.  And I pray to...</td>\n",
       "      <td>Ses05M_script03_2</td>\n",
       "      <td>5</td>\n",
       "      <td>/home/admin/workspace/data/multimodal-sentimen...</td>\n",
       "    </tr>\n",
       "  </tbody>\n",
       "</table>\n",
       "<p>7379 rows × 8 columns</p>\n",
       "</div>"
      ],
      "text/plain": [
       "                 start_stop                 vid_cid label  \\\n",
       "0         [6.2901 - 8.2357]     Ses01F_impro01_F000   neu   \n",
       "1       [10.0100 - 11.3925]     Ses01F_impro01_F001   neu   \n",
       "2       [14.8872 - 18.0175]     Ses01F_impro01_F002   neu   \n",
       "3       [27.4600 - 31.4900]     Ses01F_impro01_F005   neu   \n",
       "4       [38.9650 - 43.5900]     Ses01F_impro01_F006   fru   \n",
       "...                     ...                     ...   ...   \n",
       "7374  [236.5700 - 244.8300]  Ses05M_script03_2_M041   ang   \n",
       "7375  [244.8400 - 246.5800]  Ses05M_script03_2_M042   ang   \n",
       "7376  [246.5900 - 248.8300]  Ses05M_script03_2_M043   ang   \n",
       "7377  [255.8600 - 260.3300]  Ses05M_script03_2_M044   ang   \n",
       "7378  [260.3400 - 266.3500]  Ses05M_script03_2_M045   ang   \n",
       "\n",
       "                           VAD  \\\n",
       "0     [2.5000, 2.5000, 2.5000]   \n",
       "1     [2.5000, 2.5000, 2.5000]   \n",
       "2     [2.5000, 2.5000, 2.5000]   \n",
       "3     [2.5000, 3.5000, 2.0000]   \n",
       "4     [2.0000, 3.5000, 3.5000]   \n",
       "...                        ...   \n",
       "7374  [1.0000, 4.5000, 5.0000]   \n",
       "7375  [1.0000, 4.5000, 4.5000]   \n",
       "7376  [1.5000, 4.0000, 4.5000]   \n",
       "7377  [1.0000, 5.0000, 5.0000]   \n",
       "7378  [1.0000, 5.0000, 5.0000]   \n",
       "\n",
       "                                                   text                vid  i  \\\n",
       "0                                            Excuse me.     Ses01F_impro01  1   \n",
       "1                                                 Yeah.     Ses01F_impro01  1   \n",
       "2                                   Is there a problem?     Ses01F_impro01  1   \n",
       "3           Well what's the problem?  Let me change it.     Ses01F_impro01  1   \n",
       "4     What?  I'm getting an ID.  This is why I'm her...     Ses01F_impro01  1   \n",
       "...                                                 ...                ... ..   \n",
       "7374  You are a vile tempered, wicked living, evil l...  Ses05M_script03_2  5   \n",
       "7375                    Oh, you're not going like this.  Ses05M_script03_2  5   \n",
       "7376                          [GARBAGE] No, you're not.  Ses05M_script03_2  5   \n",
       "7377  oh! Marry you again? I wouldn't marry you agai...  Ses05M_script03_2  5   \n",
       "7378  You're a wicked little vampire.  And I pray to...  Ses05M_script03_2  5   \n",
       "\n",
       "                                                   path  \n",
       "0     /home/admin/workspace/data/multimodal-sentimen...  \n",
       "1     /home/admin/workspace/data/multimodal-sentimen...  \n",
       "2     /home/admin/workspace/data/multimodal-sentimen...  \n",
       "3     /home/admin/workspace/data/multimodal-sentimen...  \n",
       "4     /home/admin/workspace/data/multimodal-sentimen...  \n",
       "...                                                 ...  \n",
       "7374  /home/admin/workspace/data/multimodal-sentimen...  \n",
       "7375  /home/admin/workspace/data/multimodal-sentimen...  \n",
       "7376  /home/admin/workspace/data/multimodal-sentimen...  \n",
       "7377  /home/admin/workspace/data/multimodal-sentimen...  \n",
       "7378  /home/admin/workspace/data/multimodal-sentimen...  \n",
       "\n",
       "[7379 rows x 8 columns]"
      ]
     },
     "execution_count": 7,
     "metadata": {},
     "output_type": "execute_result"
    }
   ],
   "source": [
    "data"
   ]
  },
  {
   "cell_type": "markdown",
   "metadata": {},
   "source": [
    "# Emotion classes Distribution"
   ]
  },
  {
   "cell_type": "code",
   "execution_count": 8,
   "metadata": {
    "_kg_hide-input": true
   },
   "outputs": [
    {
     "data": {
      "image/png": "[encoded data removed]",
      "text/plain": [
       "<Figure size 1000x600 with 1 Axes>"
      ]
     },
     "metadata": {},
     "output_type": "display_data"
    }
   ],
   "source": [
    "import pandas as pd\n",
    "import seaborn as sns\n",
    "import matplotlib.pyplot as plt\n",
    "\n",
    "# Actual class counts for emotions and corresponding labels\n",
    "class_counts = [1849, 1708, 1103, 1084, 1041, 595]\n",
    "emo_la = {0: 'frustration', 1: 'neutral', 2: 'anger', 3: 'sadness', 4: 'excitement', 5: 'happiness'}\n",
    "\n",
    "# Create DataFrame for the emotion labels and their counts\n",
    "emotion_data = pd.DataFrame({\n",
    "    'label': [emo_la[i] for i in range(len(class_counts))],\n",
    "    'count': class_counts\n",
    "})\n",
    "\n",
    "# Plotting the distribution of Emotion Labels\n",
    "plt.figure(figsize=(10, 6))\n",
    "sns.barplot(x='label', y='count', data=emotion_data, hue='label', palette=sns.color_palette(\"bright\", len(emotion_data)), dodge=False, legend=False)\n",
    "plt.xlabel('Emotion Labels')\n",
    "plt.ylabel('Count')\n",
    "plt.title('Distribution of IEMOCAP Emotion Labels')\n",
    "plt.xticks(rotation=45)\n",
    "plt.tight_layout()\n",
    "plt.show()"
   ]
  },
  {
   "cell_type": "code",
   "execution_count": 10,
   "metadata": {},
   "outputs": [
    {
     "data": {
      "text/plain": [
       "label\n",
       "fru    252\n",
       "neu    221\n",
       "sad    156\n",
       "ang    144\n",
       "exc    141\n",
       "hap     86\n",
       "Name: count, dtype: int64"
      ]
     },
     "execution_count": 10,
     "metadata": {},
     "output_type": "execute_result"
    }
   ],
   "source": [
    "val_data['label'].value_counts()"
   ]
  },
  {
   "cell_type": "markdown",
   "metadata": {},
   "source": [
    "# Pre-Trained MobileBert Model"
   ]
  },
  {
   "cell_type": "code",
   "execution_count": 13,
   "metadata": {},
   "outputs": [],
   "source": [
    "import torch\n",
    "from torch.utils.data import DataLoader\n",
    "from transformers import  AdamW"
   ]
  },
  {
   "cell_type": "code",
   "execution_count": 14,
   "metadata": {},
   "outputs": [],
   "source": [
    "# Define hyperparameters\n",
    "batch_size = 64\n",
    "epochs = 12\n",
    "lr = 2e-5\n",
    "eps = 1e-8\n",
    "max_grad_norm = 1.0\n",
    "num_classes = 6\n",
    "quantization_bits = 8"
   ]
  },
  {
   "cell_type": "code",
   "execution_count": 15,
   "metadata": {},
   "outputs": [],
   "source": [
    "X_train=data['text']\n",
    "y_train=data['label']\n",
    "X_val=val_data['text']\n",
    "y_val=val_data['label']\n",
    "X_test=test_data['text']\n",
    "y_test=test_data['label']"
   ]
  },
  {
   "cell_type": "code",
   "execution_count": 16,
   "metadata": {},
   "outputs": [
    {
     "name": "stderr",
     "output_type": "stream",
     "text": [
      "c:\\Users\\Muhammad Hussain\\AppData\\Local\\Programs\\Python\\Python39\\lib\\site-packages\\transformers\\tokenization_utils_base.py:1601: FutureWarning: `clean_up_tokenization_spaces` was not set. It will be set to `True` by default. This behavior will be depracted in transformers v4.45, and will be then set to `False` by default. For more details check this issue: https://github.com/huggingface/transformers/issues/31884\n",
      "  warnings.warn(\n"
     ]
    }
   ],
   "source": [
    "import torch\n",
    "import transformers\n",
    "from transformers import AutoTokenizer, MobileBertForSequenceClassification,DistilBertTokenizer\n",
    "\n",
    "model_name = r'sst_mobilebert-uncased'\n",
    "tokenizer = AutoTokenizer.from_pretrained(model_name)\n",
    "config = transformers.MobileBertConfig(vocab_size = len(tokenizer.get_vocab()))\n",
    "config.num_labels = 6\n",
    "id2label = {}\n",
    "# for i in range(config.num_labels):\n",
    "#     id2label[i] = data_cl[\"label\"].int2str(i)\n",
    "id2label=emo_la"
   ]
  },
  {
   "cell_type": "code",
   "execution_count": 17,
   "metadata": {},
   "outputs": [
    {
     "name": "stderr",
     "output_type": "stream",
     "text": [
      "Some weights of MobileBertForSequenceClassification were not initialized from the model checkpoint at sst_mobilebert-uncased and are newly initialized: ['mobilebert.pooler.dense.bias', 'mobilebert.pooler.dense.weight']\n",
      "You should probably TRAIN this model on a down-stream task to be able to use it for predictions and inference.\n",
      "Some weights of MobileBertForSequenceClassification were not initialized from the model checkpoint at sst_mobilebert-uncased and are newly initialized because the shapes did not match:\n",
      "- classifier.weight: found shape torch.Size([3, 512]) in the checkpoint and torch.Size([6, 512]) in the model instantiated\n",
      "- classifier.bias: found shape torch.Size([3]) in the checkpoint and torch.Size([6]) in the model instantiated\n",
      "You should probably TRAIN this model on a down-stream task to be able to use it for predictions and inference.\n"
     ]
    }
   ],
   "source": [
    "config.id2label = id2label\n",
    "config.label2id = {v:k for k,v in id2label.items()}\n",
    "\n",
    "model = MobileBertForSequenceClassification.from_pretrained(model_name, config=config,ignore_mismatched_sizes=True)"
   ]
  },
  {
   "cell_type": "markdown",
   "metadata": {},
   "source": [
    "# Configuration Of Model"
   ]
  },
  {
   "cell_type": "code",
   "execution_count": 18,
   "metadata": {},
   "outputs": [
    {
     "data": {
      "text/plain": [
       "MobileBertConfig {\n",
       "  \"_name_or_path\": \"sst_mobilebert-uncased\",\n",
       "  \"attention_probs_dropout_prob\": 0.1,\n",
       "  \"classifier_activation\": true,\n",
       "  \"classifier_dropout\": null,\n",
       "  \"embedding_size\": 128,\n",
       "  \"hidden_act\": \"relu\",\n",
       "  \"hidden_dropout_prob\": 0.0,\n",
       "  \"hidden_size\": 512,\n",
       "  \"id2label\": {\n",
       "    \"0\": \"frustration\",\n",
       "    \"1\": \"neutral\",\n",
       "    \"2\": \"anger\",\n",
       "    \"3\": \"sadness\",\n",
       "    \"4\": \"excitement\",\n",
       "    \"5\": \"happiness\"\n",
       "  },\n",
       "  \"initializer_range\": 0.02,\n",
       "  \"intermediate_size\": 512,\n",
       "  \"intra_bottleneck_size\": 128,\n",
       "  \"key_query_shared_bottleneck\": true,\n",
       "  \"label2id\": {\n",
       "    \"anger\": 2,\n",
       "    \"excitement\": 4,\n",
       "    \"frustration\": 0,\n",
       "    \"happiness\": 5,\n",
       "    \"neutral\": 1,\n",
       "    \"sadness\": 3\n",
       "  },\n",
       "  \"layer_norm_eps\": 1e-12,\n",
       "  \"max_position_embeddings\": 512,\n",
       "  \"model_type\": \"mobilebert\",\n",
       "  \"normalization_type\": \"no_norm\",\n",
       "  \"num_attention_heads\": 4,\n",
       "  \"num_feedforward_networks\": 4,\n",
       "  \"num_hidden_layers\": 24,\n",
       "  \"pad_token_id\": 0,\n",
       "  \"transformers_version\": \"4.44.0\",\n",
       "  \"trigram_input\": true,\n",
       "  \"true_hidden_size\": 128,\n",
       "  \"type_vocab_size\": 2,\n",
       "  \"use_bottleneck\": true,\n",
       "  \"use_bottleneck_attention\": false,\n",
       "  \"vocab_size\": 30522\n",
       "}"
      ]
     },
     "execution_count": 18,
     "metadata": {},
     "output_type": "execute_result"
    }
   ],
   "source": [
    "model.config"
   ]
  },
  {
   "cell_type": "markdown",
   "metadata": {},
   "source": [
    "**Encoding and tokenization text data before passing to the model**"
   ]
  },
  {
   "cell_type": "code",
   "execution_count": 19,
   "metadata": {},
   "outputs": [
    {
     "name": "stderr",
     "output_type": "stream",
     "text": [
      "Some weights of MobileBertForSequenceClassification were not initialized from the model checkpoint at sst_mobilebert-uncased and are newly initialized: ['mobilebert.pooler.dense.bias', 'mobilebert.pooler.dense.weight']\n",
      "You should probably TRAIN this model on a down-stream task to be able to use it for predictions and inference.\n",
      "Some weights of MobileBertForSequenceClassification were not initialized from the model checkpoint at sst_mobilebert-uncased and are newly initialized because the shapes did not match:\n",
      "- classifier.weight: found shape torch.Size([3, 512]) in the checkpoint and torch.Size([6, 512]) in the model instantiated\n",
      "- classifier.bias: found shape torch.Size([3]) in the checkpoint and torch.Size([6]) in the model instantiated\n",
      "You should probably TRAIN this model on a down-stream task to be able to use it for predictions and inference.\n",
      "Truncation was not explicitly activated but `max_length` is provided a specific value, please use `truncation=True` to explicitly truncate examples to max length. Defaulting to 'longest_first' truncation strategy. If you encode pairs of sequences (GLUE-style) with the tokenizer you can select this strategy more precisely by providing a specific strategy to `truncation`.\n",
      "c:\\Users\\Muhammad Hussain\\AppData\\Local\\Programs\\Python\\Python39\\lib\\site-packages\\transformers\\tokenization_utils_base.py:2870: FutureWarning: The `pad_to_max_length` argument is deprecated and will be removed in a future version, use `padding=True` or `padding='longest'` to pad to the longest sequence in the batch, or use `padding='max_length'` to pad to a max length. In this case, you can give a specific length with `max_length` (e.g. `max_length=45`) or leave max_length to None to pad to the maximal input size of the model (e.g. 512 for Bert).\n",
      "  warnings.warn(\n"
     ]
    },
    {
     "data": {
      "text/plain": [
       "MobileBertForSequenceClassification(\n",
       "  (mobilebert): MobileBertModel(\n",
       "    (embeddings): MobileBertEmbeddings(\n",
       "      (word_embeddings): Embedding(30522, 128, padding_idx=0)\n",
       "      (position_embeddings): Embedding(512, 512)\n",
       "      (token_type_embeddings): Embedding(2, 512)\n",
       "      (embedding_transformation): Linear(in_features=384, out_features=512, bias=True)\n",
       "      (LayerNorm): NoNorm()\n",
       "      (dropout): Dropout(p=0.0, inplace=False)\n",
       "    )\n",
       "    (encoder): MobileBertEncoder(\n",
       "      (layer): ModuleList(\n",
       "        (0-23): 24 x MobileBertLayer(\n",
       "          (attention): MobileBertAttention(\n",
       "            (self): MobileBertSelfAttention(\n",
       "              (query): Linear(in_features=128, out_features=128, bias=True)\n",
       "              (key): Linear(in_features=128, out_features=128, bias=True)\n",
       "              (value): Linear(in_features=512, out_features=128, bias=True)\n",
       "              (dropout): Dropout(p=0.1, inplace=False)\n",
       "            )\n",
       "            (output): MobileBertSelfOutput(\n",
       "              (dense): Linear(in_features=128, out_features=128, bias=True)\n",
       "              (LayerNorm): NoNorm()\n",
       "            )\n",
       "          )\n",
       "          (intermediate): MobileBertIntermediate(\n",
       "            (dense): Linear(in_features=128, out_features=512, bias=True)\n",
       "            (intermediate_act_fn): ReLU()\n",
       "          )\n",
       "          (output): MobileBertOutput(\n",
       "            (dense): Linear(in_features=512, out_features=128, bias=True)\n",
       "            (LayerNorm): NoNorm()\n",
       "            (bottleneck): OutputBottleneck(\n",
       "              (dense): Linear(in_features=128, out_features=512, bias=True)\n",
       "              (LayerNorm): NoNorm()\n",
       "              (dropout): Dropout(p=0.0, inplace=False)\n",
       "            )\n",
       "          )\n",
       "          (bottleneck): Bottleneck(\n",
       "            (input): BottleneckLayer(\n",
       "              (dense): Linear(in_features=512, out_features=128, bias=True)\n",
       "              (LayerNorm): NoNorm()\n",
       "            )\n",
       "            (attention): BottleneckLayer(\n",
       "              (dense): Linear(in_features=512, out_features=128, bias=True)\n",
       "              (LayerNorm): NoNorm()\n",
       "            )\n",
       "          )\n",
       "          (ffn): ModuleList(\n",
       "            (0-2): 3 x FFNLayer(\n",
       "              (intermediate): MobileBertIntermediate(\n",
       "                (dense): Linear(in_features=128, out_features=512, bias=True)\n",
       "                (intermediate_act_fn): ReLU()\n",
       "              )\n",
       "              (output): FFNOutput(\n",
       "                (dense): Linear(in_features=512, out_features=128, bias=True)\n",
       "                (LayerNorm): NoNorm()\n",
       "              )\n",
       "            )\n",
       "          )\n",
       "        )\n",
       "      )\n",
       "    )\n",
       "    (pooler): MobileBertPooler(\n",
       "      (dense): Linear(in_features=512, out_features=512, bias=True)\n",
       "    )\n",
       "  )\n",
       "  (dropout): Dropout(p=0.0, inplace=False)\n",
       "  (classifier): Linear(in_features=512, out_features=6, bias=True)\n",
       ")"
      ]
     },
     "execution_count": 19,
     "metadata": {},
     "output_type": "execute_result"
    }
   ],
   "source": [
    "import torch\n",
    "from transformers import AutoTokenizer, AutoModelForSequenceClassification\n",
    "from sklearn.preprocessing import LabelEncoder\n",
    "import pandas as pd\n",
    "import numpy as np\n",
    "\n",
    "# Replace 'your_model_name' with the actual model name you are using\n",
    "model_name = 'sst_mobilebert-uncased'\n",
    "tokenizer = AutoTokenizer.from_pretrained(model_name)\n",
    "model = AutoModelForSequenceClassification.from_pretrained(model_name, ignore_mismatched_sizes=True)\n",
    "\n",
    "# Assuming X_train, X_val, and X_test are pandas Series\n",
    "X_train_list = X_train.tolist()\n",
    "X_val_list = X_val.tolist()\n",
    "X_test_list = X_test.tolist()\n",
    "\n",
    "# Encode the data\n",
    "encoded_data_train = tokenizer.batch_encode_plus(\n",
    "    X_train_list,\n",
    "    add_special_tokens=True,\n",
    "    return_attention_mask=True,\n",
    "    pad_to_max_length=True,\n",
    "    max_length=64,\n",
    "    return_tensors='pt'\n",
    ")\n",
    "\n",
    "encoded_data_val = tokenizer.batch_encode_plus(\n",
    "    X_val_list,\n",
    "    add_special_tokens=True,\n",
    "    return_attention_mask=True,\n",
    "    pad_to_max_length=True,\n",
    "    max_length=64,\n",
    "    return_tensors='pt'\n",
    ")\n",
    "\n",
    "encoded_data_test = tokenizer.batch_encode_plus(\n",
    "    X_test_list,\n",
    "    add_special_tokens=True,\n",
    "    return_attention_mask=True,\n",
    "    pad_to_max_length=True,\n",
    "    max_length=64,\n",
    "    return_tensors='pt'\n",
    ")\n",
    "\n",
    "# Ensure labels are numeric\n",
    "label_encoder = LabelEncoder()\n",
    "y_train_encoded = label_encoder.fit_transform(y_train)\n",
    "y_val_encoded = label_encoder.transform(y_val)\n",
    "y_test_encoded = label_encoder.transform(y_test)\n",
    "\n",
    "# Move input tensors to the same device as the model\n",
    "device = torch.device(\"cuda:0\" if torch.cuda.is_available() else \"cpu\")\n",
    "\n",
    "input_ids_train = encoded_data_train['input_ids'].to(device)\n",
    "attention_masks_train = encoded_data_train['attention_mask'].to(device)\n",
    "labels_train = torch.tensor(y_train_encoded).to(device)\n",
    "\n",
    "input_ids_val = encoded_data_val['input_ids'].to(device)\n",
    "attention_masks_val = encoded_data_val['attention_mask'].to(device)\n",
    "labels_val = torch.tensor(y_val_encoded).to(device)\n",
    "\n",
    "input_ids_test = encoded_data_test['input_ids'].to(device)\n",
    "attention_masks_test = encoded_data_test['attention_mask'].to(device)\n",
    "labels_test = torch.tensor(y_test_encoded).to(device)\n",
    "\n",
    "model.to(device)  # Move the model to the same device"
   ]
  },
  {
   "cell_type": "markdown",
   "metadata": {},
   "source": [
    "**Using Dataloader to pass data in batches for training the model**"
   ]
  },
  {
   "cell_type": "code",
   "execution_count": 20,
   "metadata": {},
   "outputs": [],
   "source": [
    "from torch.utils.data import (DataLoader, RandomSampler, SequentialSampler,\n",
    "                              TensorDataset)\n",
    "dataset_train = TensorDataset(input_ids_train, \n",
    "                              attention_masks_train,\n",
    "                              labels_train)\n",
    "\n",
    "dataset_val = TensorDataset(input_ids_val, \n",
    "                            attention_masks_val,\n",
    "                           labels_val)\n",
    "dataset_test=TensorDataset(input_ids_test, \n",
    "                            attention_masks_test,\n",
    "                           labels_test)"
   ]
  },
  {
   "cell_type": "code",
   "execution_count": 21,
   "metadata": {},
   "outputs": [],
   "source": [
    "dataloader_train = DataLoader(\n",
    "    dataset_train,\n",
    "    sampler=RandomSampler(dataset_train),\n",
    "    batch_size=batch_size\n",
    ")\n",
    "\n",
    "dataloader_val = DataLoader(\n",
    "    dataset_val,\n",
    "    sampler=RandomSampler(dataset_val),\n",
    "    batch_size=32\n",
    ")\n",
    "dataloader_test = DataLoader(\n",
    "    dataset_test,\n",
    "    sampler=RandomSampler(dataset_test),\n",
    "    batch_size=32\n",
    ")"
   ]
  },
  {
   "cell_type": "markdown",
   "metadata": {},
   "source": [
    "** Focal Weighted Loss and adversarial training"
   ]
  },
  {
   "cell_type": "code",
   "execution_count": 22,
   "metadata": {},
   "outputs": [
    {
     "name": "stderr",
     "output_type": "stream",
     "text": [
      "c:\\Users\\Muhammad Hussain\\AppData\\Local\\Programs\\Python\\Python39\\lib\\site-packages\\transformers\\optimization.py:591: FutureWarning: This implementation of AdamW is deprecated and will be removed in a future version. Use the PyTorch implementation torch.optim.AdamW instead, or set `no_deprecation_warning=True` to disable this warning\n",
      "  warnings.warn(\n"
     ]
    }
   ],
   "source": [
    "import torch\n",
    "from torch.nn import Module\n",
    "import torch.nn.functional as F\n",
    "from transformers import AdamW, get_linear_schedule_with_warmup\n",
    "from collections import Counter\n",
    "from sklearn.metrics import classification_report\n",
    "\n",
    "# Assuming these variables are defined:\n",
    "# model, device, lr, eps, epochs, dataloader_train, dataloader_val, dataloader_test, y_train, num_classes\n",
    "\n",
    "# Initialize device\n",
    "device = torch.device(\"cuda\" if torch.cuda.is_available() else \"cpu\")\n",
    "\n",
    "# Example: Calculate class weights based on the training labels\n",
    "class_counts = Counter(y_train)  # y_train should be your training labels\n",
    "total_samples = sum(class_counts.values())\n",
    "\n",
    "# Handle the case where a class has zero samples\n",
    "class_weights = []\n",
    "for i in range(num_classes):\n",
    "    if class_counts[i] > 0:\n",
    "        class_weights.append(total_samples / class_counts[i])\n",
    "    else:\n",
    "        class_weights.append(1.0)  # Assign a default weight (e.g., 1.0) for classes with zero samples\n",
    "\n",
    "class_weights = torch.tensor(class_weights, dtype=torch.float).to(device)\n",
    "\n",
    "class FocalWeightedLoss(Module):\n",
    "    def __init__(self, alpha=0.25, gamma=2.0, focal_weight=0.5, class_weights=None):\n",
    "        super(FocalWeightedLoss, self).__init__()\n",
    "        self.alpha = alpha\n",
    "        self.gamma = gamma\n",
    "        self.focal_weight = focal_weight\n",
    "        self.class_weights = class_weights\n",
    "\n",
    "    def forward(self, inputs, targets):\n",
    "        # Ensure targets are of dtype long\n",
    "        targets = targets.long()\n",
    "\n",
    "        # Compute weighted categorical cross-entropy loss\n",
    "        weighted_ce_loss = F.cross_entropy(inputs, targets, weight=self.class_weights)\n",
    "\n",
    "        # Compute focal loss\n",
    "        probs = F.softmax(inputs, dim=1)\n",
    "        pt = probs.gather(1, targets.view(-1, 1)).squeeze()\n",
    "        focal_weight = (1 - pt) ** self.gamma\n",
    "        focal_loss = self.alpha * focal_weight * F.cross_entropy(inputs, targets, reduction='none')\n",
    "\n",
    "        # Combine the two losses\n",
    "        combined_loss = (1.0 - self.focal_weight) * weighted_ce_loss + self.focal_weight * focal_loss.mean()\n",
    "\n",
    "        return combined_loss\n",
    "\n",
    "# Create an instance of the FocalWeightedLoss\n",
    "focal_weighted_loss_fn = FocalWeightedLoss(alpha=0.25, gamma=2.0, focal_weight=0.5, class_weights=class_weights)\n",
    "\n",
    "# Define optimizer and scheduler\n",
    "optimizer = AdamW(model.parameters(), lr=lr, eps=eps)\n",
    "total_steps = len(dataloader_train) * epochs\n",
    "scheduler = get_linear_schedule_with_warmup(optimizer, num_warmup_steps=0, num_training_steps=total_steps)\n",
    "\n",
    "# FGSM Attack function for adversarial training\n",
    "def fgsm_attack(model, inputs, labels, attention_mask, epsilon):\n",
    "    # Access the embedding layer through the MobileBertModel\n",
    "    inputs_embeds = model.mobilebert.embeddings.word_embeddings(inputs).detach()\n",
    "    inputs_embeds.requires_grad = True\n",
    "    outputs = model(inputs_embeds=inputs_embeds, attention_mask=attention_mask)\n",
    "    loss = F.cross_entropy(outputs.logits, labels.long())\n",
    "    model.zero_grad()\n",
    "    loss.backward()\n",
    "    data_grad = inputs_embeds.grad.data\n",
    "    perturbed_embeds = inputs_embeds + epsilon * data_grad.sign()\n",
    "    return perturbed_embeds"
   ]
  },
  {
   "cell_type": "markdown",
   "metadata": {},
   "source": [
    "**Model Training**"
   ]
  },
  {
   "cell_type": "code",
   "execution_count": 23,
   "metadata": {},
   "outputs": [
    {
     "name": "stdout",
     "output_type": "stream",
     "text": [
      "Epoch 1/12, Average Loss: 0.9390\n",
      "Epoch 2/12, Average Loss: 0.8828\n",
      "Epoch 3/12, Average Loss: 0.7571\n",
      "Epoch 4/12, Average Loss: 0.6849\n",
      "Epoch 5/12, Average Loss: 0.6343\n",
      "Epoch 6/12, Average Loss: 0.6061\n",
      "Epoch 7/12, Average Loss: 0.5951\n",
      "Epoch 8/12, Average Loss: 0.5975\n",
      "Epoch 9/12, Average Loss: 0.6004\n",
      "Epoch 10/12, Average Loss: 0.5960\n",
      "Epoch 11/12, Average Loss: 0.5961\n",
      "Epoch 12/12, Average Loss: 0.5959\n"
     ]
    }
   ],
   "source": [
    "# Training loop with FGSM adversarial training\n",
    "epsilon = 0.1  # Perturbation magnitude\n",
    "max_grad_norm = 1.0  # Maximum gradient norm for clipping\n",
    "\n",
    "for epoch in range(epochs):\n",
    "    model.train()\n",
    "    total_loss = 0.0\n",
    "\n",
    "    for step, batch in enumerate(dataloader_train):\n",
    "        input_ids = batch[0].to(device)\n",
    "        attention_mask = batch[1].to(device)\n",
    "        labels = batch[2].to(device)\n",
    "\n",
    "        optimizer.zero_grad()\n",
    "        outputs = model(input_ids, attention_mask=attention_mask)\n",
    "        logits = outputs.logits\n",
    "        loss = focal_weighted_loss_fn(logits, labels)  # Use FocalWeightedLoss\n",
    "        total_loss += loss.item()\n",
    "\n",
    "        loss.backward()\n",
    "        torch.nn.utils.clip_grad_norm_(model.parameters(), max_grad_norm)\n",
    "        optimizer.step()\n",
    "        scheduler.step()\n",
    "\n",
    "        # FGSM Adversarial Training\n",
    "        perturbed_embeds = fgsm_attack(model, input_ids, labels, attention_mask, epsilon)\n",
    "        outputs_adv = model(inputs_embeds=perturbed_embeds, attention_mask=attention_mask)\n",
    "        logits_adv = outputs_adv.logits\n",
    "        loss_adv = focal_weighted_loss_fn(logits_adv, labels)\n",
    "        loss_adv.backward()\n",
    "        torch.nn.utils.clip_grad_norm_(model.parameters(), max_grad_norm)\n",
    "        optimizer.step()\n",
    "        scheduler.step()\n",
    "\n",
    "    average_loss = total_loss / len(dataloader_train)\n",
    "    print(f'Epoch {epoch + 1}/{epochs}, Average Loss: {average_loss:.4f}')"
   ]
  },
  {
   "cell_type": "markdown",
   "metadata": {},
   "source": [
    "**Model Validation**"
   ]
  },
  {
   "cell_type": "code",
   "execution_count": 25,
   "metadata": {},
   "outputs": [
    {
     "name": "stdout",
     "output_type": "stream",
     "text": [
      "Validation Loss: 0.5746 - Validation Accuracy: 0.6309\n"
     ]
    }
   ],
   "source": [
    "# Evaluate on validation set\n",
    "model.eval()\n",
    "total_val_loss, total_val_accuracy = 0, 0\n",
    "\n",
    "with torch.no_grad():\n",
    "    for batch in dataloader_val:\n",
    "        input_ids = batch[0].to(device)\n",
    "        attention_mask = batch[1].to(device)\n",
    "        labels = batch[2].to(device)\n",
    "        \n",
    "        outputs = model(input_ids, attention_mask=attention_mask)\n",
    "        logits = outputs.logits\n",
    "        \n",
    "        # Calculate loss using FocalWeightedLoss\n",
    "        loss = focal_weighted_loss_fn(logits, labels)\n",
    "        \n",
    "        # Calculate accuracy\n",
    "        _, predicted_labels = torch.max(logits, 1)\n",
    "        correct_predictions = (predicted_labels == labels).sum().item()\n",
    "\n",
    "        num_samples = labels.size(0)\n",
    "        accuracy = correct_predictions / num_samples\n",
    "        total_val_accuracy += accuracy\n",
    "\n",
    "        total_val_loss += loss.item()\n",
    "\n",
    "    avg_val_loss = total_val_loss / len(dataloader_val)\n",
    "    avg_val_accuracy = total_val_accuracy / len(dataloader_val)\n",
    "\n",
    "print(f'Validation Loss: {avg_val_loss:.4f} - Validation Accuracy: {avg_val_accuracy:.4f}')"
   ]
  },
  {
   "cell_type": "markdown",
   "metadata": {},
   "source": [
    "**Testing Model**"
   ]
  },
  {
   "cell_type": "code",
   "execution_count": 26,
   "metadata": {},
   "outputs": [
    {
     "name": "stdout",
     "output_type": "stream",
     "text": [
      "Test Loss: 0.5605 - Test Accuracy: 0.6297\n"
     ]
    }
   ],
   "source": [
    "# Evaluate on test set\n",
    "model.eval()\n",
    "total_test_loss, total_correct, total_samples = 0, 0, 0\n",
    "y_test_pred = []\n",
    "y_true = []\n",
    "\n",
    "with torch.no_grad():\n",
    "    for batch in dataloader_test:\n",
    "        input_ids = batch[0].to(device)\n",
    "        attention_mask = batch[1].to(device)\n",
    "        labels = batch[2].to(device)\n",
    "\n",
    "        outputs = model(input_ids, attention_mask=attention_mask)\n",
    "        logits = outputs.logits\n",
    "        \n",
    "        # Calculate loss using FocalWeightedLoss\n",
    "        loss = focal_weighted_loss_fn(logits, labels)\n",
    "\n",
    "        # Convert logits to predicted labels\n",
    "        predicted_labels = torch.argmax(logits, dim=1)\n",
    "\n",
    "        # Accumulate predictions and true labels for evaluation\n",
    "        y_test_pred.extend(predicted_labels.tolist())\n",
    "        y_true.extend(labels.tolist())\n",
    "\n",
    "        # Calculate total loss\n",
    "        total_test_loss += loss.item()\n",
    "\n",
    "        # Calculate total correct predictions\n",
    "        total_correct += (predicted_labels == labels).sum().item()\n",
    "\n",
    "        # Accumulate total samples\n",
    "        total_samples += labels.size(0)\n",
    "\n",
    "    # Calculate average loss\n",
    "    avg_test_loss = total_test_loss / len(dataloader_test)\n",
    "\n",
    "    # Calculate accuracy\n",
    "    test_accuracy = total_correct / total_samples\n",
    "\n",
    "print(f'Test Loss: {avg_test_loss:.4f} - Test Accuracy: {test_accuracy:.4f}')"
   ]
  },
  {
   "cell_type": "code",
   "execution_count": 27,
   "metadata": {},
   "outputs": [
    {
     "data": {
      "text/plain": [
       "array([[124,   5,  34,   1,   7,   2],\n",
       "       [  5, 144,   3,  48,  24,   3],\n",
       "       [ 71,   7, 241,   2,  60,  13],\n",
       "       [  1,  11,   3,  38,   5,   2],\n",
       "       [ 28,  27,  72,  19, 232,  26],\n",
       "       [ 11,   8,  27,   4,  35, 180]], dtype=int64)"
      ]
     },
     "execution_count": 27,
     "metadata": {},
     "output_type": "execute_result"
    }
   ],
   "source": [
    "from sklearn.metrics import confusion_matrix\n",
    "# y_pred=predict_bert(test_set[:50])\n",
    "confusion_matrix(y_test_pred, y_true)"
   ]
  },
  {
   "cell_type": "markdown",
   "metadata": {},
   "source": [
    "**Confusion Matrix**"
   ]
  },
  {
   "cell_type": "code",
   "execution_count": 28,
   "metadata": {},
   "outputs": [
    {
     "data": {
      "image/png": "[encoded data removed]",
      "text/plain": [
       "<Figure size 1000x800 with 2 Axes>"
      ]
     },
     "metadata": {},
     "output_type": "display_data"
    }
   ],
   "source": [
    "# Generate confusion matrix\n",
    "conf_matrix = confusion_matrix(y_true, y_test_pred)\n",
    "\n",
    "# Plot confusion matrix with heatmap\n",
    "plt.figure(figsize=(10, 8))\n",
    "sns.heatmap(conf_matrix, annot=True, fmt=\"d\", cmap=\"Blues\", xticklabels=['frustration', 'neutral', 'anger', 'sadness', 'excitement', 'happiness'], yticklabels=['frustration', 'neutral', 'anger', 'sadness', 'excitement', 'happiness'], cbar_kws={'label': 'Count'})\n",
    "plt.xlabel('Predicted')\n",
    "plt.ylabel('True')\n",
    "plt.title('Confusion Matrix')\n",
    "plt.xticks(rotation=45)\n",
    "plt.yticks(rotation=45)\n",
    "plt.tight_layout()\n",
    "plt.show()"
   ]
  },
  {
   "cell_type": "markdown",
   "metadata": {},
   "source": [
    "**Classification Report**"
   ]
  },
  {
   "cell_type": "code",
   "execution_count": 29,
   "metadata": {},
   "outputs": [
    {
     "name": "stdout",
     "output_type": "stream",
     "text": [
      "              precision    recall  f1-score   support\n",
      "\n",
      "           0       0.52      0.72      0.60       173\n",
      "           1       0.71      0.63      0.67       227\n",
      "           2       0.63      0.61      0.62       394\n",
      "           3       0.34      0.63      0.44        60\n",
      "           4       0.64      0.57      0.60       404\n",
      "           5       0.80      0.68      0.73       265\n",
      "\n",
      "    accuracy                           0.63      1523\n",
      "   macro avg       0.61      0.64      0.61      1523\n",
      "weighted avg       0.65      0.63      0.63      1523\n",
      "\n",
      "0.6296782665791202\n",
      "{0: 'frustration', 1: 'neutral', 2: 'anger', 3: 'sadness', 4: 'excitement', 5: 'happiness'}\n"
     ]
    }
   ],
   "source": [
    " from sklearn.metrics import classification_report\n",
    "from sklearn.metrics import accuracy_score\n",
    "print(classification_report(y_test_pred, y_true))\n",
    "print(accuracy_score( y_true, y_test_pred))\n",
    "print(emo_la)"
   ]
  }
 ],
 "metadata": {
  "kernelspec": {
   "display_name": "Python 3 (ipykernel)",
   "language": "python",
   "name": "python3"
  },
  "language_info": {
   "codemirror_mode": {
    "name": "ipython",
    "version": 3
   },
   "file_extension": ".py",
   "mimetype": "text/x-python",
   "name": "python",
   "nbconvert_exporter": "python",
   "pygments_lexer": "ipython3",
   "version": "3.9.0"
  }
 },
 "nbformat": 4,
 "nbformat_minor": 4
}
